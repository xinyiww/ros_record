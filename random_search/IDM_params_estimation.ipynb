{
 "cells": [
  {
   "attachments": {},
   "cell_type": "markdown",
   "id": "2f64c662",
   "metadata": {},
   "source": [
    "# Estimating Best Parameters for Prediction Modules\n",
    "\n",
    "We want to \n",
    "1. Code up a particle filter, find IDM parameters for each trajectory \n",
    "2. Random search the parameter space to confirm that the solution we got from particle filter is a good one.\n",
    "\n",
    "## Random Search \n",
    "\n"
   ]
  },
  {
   "attachments": {},
   "cell_type": "markdown",
   "id": "0b04abba",
   "metadata": {},
   "source": [
    "### Parameter Randomization\n",
    "\n",
    "1. max acc a  [0.2, 1.0], \n",
    "2. max time gap T  [0.1, 4.0]\n",
    "3. max distance gap d0 [1.5,8.0]\n"
   ]
  },
  {
   "cell_type": "markdown",
   "id": "1e1a1c42",
   "metadata": {},
   "source": [
    "here is how we generate the random numbers,. "
   ]
  },
  {
   "cell_type": "code",
   "execution_count": null,
   "id": "c5ba7e84",
   "metadata": {},
   "outputs": [],
   "source": []
  },
  {
   "cell_type": "markdown",
   "id": "9ee82119",
   "metadata": {},
   "source": [
    "## data analysis \n"
   ]
  },
  {
   "cell_type": "code",
   "execution_count": 5,
   "id": "b2aece6e",
   "metadata": {},
   "outputs": [],
   "source": [
    "import pandas as pd\n",
    "\n",
    "# Read the CSV file into a pandas DataFrame\n",
    "df = pd.read_csv('/home/xliu/Documents/ros_record/random_search/params_random_search.csv')\n",
    "\n",
    "# Access the values in each column\n",
    "max_acc = df['max_acc']\n",
    "min_d_gap = df['min_d_gap']\n",
    "min_t_gap = df['min_t_gap']\n",
    "max_deacc = df['max_deacc'] \n",
    "quantitative_accuracy = df['quantitative_accuracy']\n",
    "# ADE = df['ADE_t_jun_filtered']\n",
    "ADE = df['result_combo_gap']\n",
    "\n",
    "\n",
    "\n",
    "# Do something with the column values\n",
    "# print(max_acc.shape, min_d_gap.shape, min_t_gap.shape)"
   ]
  },
  {
   "cell_type": "code",
   "execution_count": 7,
   "id": "bd140f0c",
   "metadata": {},
   "outputs": [
    {
     "name": "stdout",
     "output_type": "stream",
     "text": [
      "Using matplotlib backend: TkAgg\n"
     ]
    }
   ],
   "source": [
    "# 3D Heatmap in Python using matplotlib\n",
    "  \n",
    "# to make plot interactive \n",
    "%matplotlib\n",
    "  \n",
    "# importing required libraries\n",
    "from mpl_toolkits.mplot3d import Axes3D\n",
    "import matplotlib.pyplot as plt\n",
    "import numpy as np\n",
    "from pylab import *\n",
    "  \n",
    "# creating a dummy dataset\n",
    "# x = np.random.randint(low=100, high=500, size=(1000,))\n",
    "# y = np.random.randint(low=300, high=500, size=(1000,))\n",
    "# z = np.random.randint(low=200, high=500, size=(1000,))\n",
    "# colo = [x + y + z]\n",
    "\n",
    "\n",
    "x = max_acc\n",
    "y = max_deacc#min_d_gap\n",
    "z = quantitative_accuracy#\n",
    "y = min_t_gap\n",
    "colo = (ADE - np.min(ADE))/(np.max(ADE) - np.min(ADE))\n",
    "  \n",
    "# creating figures\n",
    "fig = plt.figure(figsize=(10, 10))\n",
    "ax = fig.add_subplot(111, projection='3d')\n",
    "  \n",
    "# setting color bar\n",
    "# color_map = cm.ScalarMappable(cmap=cm.Greys_r)\n",
    "# color_map.set_array(colo)\n",
    "  \n",
    "# creating the heatmap\n",
    "img = ax.scatter(x, y, z, marker='s',\n",
    "                 s=colo*200, color='grey')\n",
    "# plt.colorbar(color_map)\n",
    "  \n",
    "# adding title and labels\n",
    "ax.set_title(\"3D Heatmap\")\n",
    "ax.set_xlabel('max_acc')\n",
    "ax.set_ylabel('min_d_gap')\n",
    "ax.set_zlabel('min_t_gap')\n",
    "  \n",
    "# displaying plot\n",
    "plt.show()"
   ]
  },
  {
   "cell_type": "code",
   "execution_count": null,
   "id": "1f196176",
   "metadata": {},
   "outputs": [],
   "source": []
  }
 ],
 "metadata": {
  "kernelspec": {
   "display_name": "Python 3",
   "language": "python",
   "name": "python3"
  },
  "language_info": {
   "codemirror_mode": {
    "name": "ipython",
    "version": 3
   },
   "file_extension": ".py",
   "mimetype": "text/x-python",
   "name": "python",
   "nbconvert_exporter": "python",
   "pygments_lexer": "ipython3",
   "version": "3.8.10"
  }
 },
 "nbformat": 4,
 "nbformat_minor": 5
}
