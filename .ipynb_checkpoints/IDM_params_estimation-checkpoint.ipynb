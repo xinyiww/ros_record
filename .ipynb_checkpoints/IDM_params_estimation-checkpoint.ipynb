{
 "cells": [
  {
   "cell_type": "markdown",
   "id": "2f64c662",
   "metadata": {},
   "source": [
    "# Estimating Best Parameters for Prediction Modules\n",
    "\n",
    "We want to \n",
    "1. Code up a particle filter, find IDM parameters for each trajectory \n",
    "2. Random search the parameter space to confirm that the solution we got from particle filter is a good one.\n",
    "\n",
    "## Random Search \n",
    "\n",
    "### 1. Sort out one big "
   ]
  },
  {
   "cell_type": "code",
   "execution_count": 32,
   "id": "c1ca89f9",
   "metadata": {},
   "outputs": [],
   "source": [
    "from dataImport import * \n",
    "from eval import *\n",
    "import matplotlib.pyplot as plt\n",
    "import rosbag\n",
    "\n"
   ]
  },
  {
   "cell_type": "code",
   "execution_count": 33,
   "id": "abf3dab9",
   "metadata": {},
   "outputs": [],
   "source": [
    "# following are the data we use \n",
    "# [x[0] for x in os.walk(os. getcwd())]\n",
    "# data_folders = [ f.path for f in os.scandir(os. getcwd()) if f.is_dir() and f.name[:5] == 't_jun']\n",
    "bags_fn= [ f.path for f in os.scandir(os. getcwd()) if f.is_dir() == False and f.name[:5] == 't_jun']"
   ]
  },
  {
   "cell_type": "code",
   "execution_count": 35,
   "id": "7704a3fa",
   "metadata": {},
   "outputs": [],
   "source": [
    "# Create the output bag\n",
    "output_bag = rosbag.Bag('ALL_t_jun.bag', 'w')\n",
    "\n",
    "# Iterate through the messages in the input bags and write them to the output bag\n",
    "for bag_fn in bags_fn:\n",
    "    bag = rosbag.Bag(bag_fn)\n",
    "    for topic, msg, timestamp in bag.read_messages():\n",
    "        output_bag.write(topic, msg, timestamp)\n",
    "    # Close the bags\n",
    "    bag.close()\n",
    "output_bag.close()"
   ]
  },
  {
   "cell_type": "markdown",
   "id": "0b04abba",
   "metadata": {},
   "source": [
    "### Parameter Randomization\n",
    "\n",
    "1. max acc a  [0.2, 2.0], \n",
    "2. max time gap T  [0.1, 4.0]\n",
    "3. max distance gap d0 [1.0,8.0]\n"
   ]
  },
  {
   "cell_type": "code",
   "execution_count": 36,
   "id": "832cf816",
   "metadata": {},
   "outputs": [],
   "source": []
  },
  {
   "cell_type": "code",
   "execution_count": 37,
   "id": "c5ba7e84",
   "metadata": {},
   "outputs": [
    {
     "name": "stdout",
     "output_type": "stream",
     "text": [
      "Data written to CSV file.\n"
     ]
    }
   ],
   "source": [
    "import csv\n",
    "\n",
    "\n",
    "n_sam = 5\n",
    "max_acc = np.random.random (n_sam) * 1.8 + 0.2\n",
    "min_d_gap = np.random.random (n_sam) * 3.9 + 0.1\n",
    "min_t_gap = np.random.random (n_sam) * 7.0 + 1.0\n",
    "\n",
    "\n",
    "# Define the headers and rows of data\n",
    "headers = ['max_acc', 'min_d_gap', 'min_t_gap', 'ADE', 'FDE']\n",
    "rows = []\n",
    "\n",
    "for i in max_acc:\n",
    "    for j in min_d_gap:\n",
    "        for k in min_t_gap:\n",
    "            rows.append([i,j,k])\n",
    "\n",
    "# Open a file for writing\n",
    "with open('aaaaaaaa.csv', 'w', newline='') as csvfile:\n",
    "\n",
    "    # Create a CSV writer object\n",
    "    writer = csv.writer(csvfile)\n",
    "\n",
    "    # Write the headers to the CSV file\n",
    "    writer.writerow(headers)\n",
    "\n",
    "    # Write the rows of data to the CSV file\n",
    "    for row in rows:\n",
    "        writer.writerow(row)\n",
    "\n",
    "print('Data written to CSV file.')"
   ]
  },
  {
   "cell_type": "code",
   "execution_count": null,
   "id": "6e24d7a1",
   "metadata": {},
   "outputs": [],
   "source": []
  }
 ],
 "metadata": {
  "kernelspec": {
   "display_name": "Python 3 (ipykernel)",
   "language": "python",
   "name": "python3"
  },
  "language_info": {
   "codemirror_mode": {
    "name": "ipython",
    "version": 3
   },
   "file_extension": ".py",
   "mimetype": "text/x-python",
   "name": "python",
   "nbconvert_exporter": "python",
   "pygments_lexer": "ipython3",
   "version": "3.8.10"
  }
 },
 "nbformat": 4,
 "nbformat_minor": 5
}
